{
 "cells": [
  {
   "cell_type": "code",
   "execution_count": 2,
   "metadata": {
    "collapsed": true
   },
   "outputs": [],
   "source": [
    "with open('/Users/alongalor/Google Drive/Coursework/Stanford Algorithms/Wk3/Data/QuickSort.txt') as f:\n",
    "    A = [int(x.strip('\\n')) for x in f.readlines()]"
   ]
  },
  {
   "cell_type": "code",
   "execution_count": 3,
   "metadata": {
    "collapsed": false
   },
   "outputs": [],
   "source": [
    "def quicksort(A):\n",
    "    if len(A) <= 1:\n",
    "        return A\n",
    "    else:\n",
    "        global count\n",
    "        count += len(A) - 1\n",
    "        p, A = choose_pivot(A)\n",
    "        i = 1\n",
    "        for j in range(1,len(A)):\n",
    "            if A[j] < p:\n",
    "                A[j], A[i] = A[i], A[j]\n",
    "                i += 1\n",
    "        A[0], A[i-1] = A[i-1], A[0]\n",
    "        A[:i-1], A[i:] = quicksort(A[:i-1]), quicksort(A[i:])\n",
    "        return A"
   ]
  },
  {
   "cell_type": "code",
   "execution_count": 4,
   "metadata": {
    "collapsed": true
   },
   "outputs": [],
   "source": [
    "def choose_pivot(A):    \n",
    "    p = A[0]\n",
    "    return p, A"
   ]
  },
  {
   "cell_type": "code",
   "execution_count": 5,
   "metadata": {
    "collapsed": false
   },
   "outputs": [],
   "source": [
    "count = 0 \n",
    "sort_1 = quicksort(A)"
   ]
  },
  {
   "cell_type": "code",
   "execution_count": 6,
   "metadata": {
    "collapsed": false
   },
   "outputs": [
    {
     "data": {
      "text/plain": [
       "162085"
      ]
     },
     "execution_count": 6,
     "metadata": {},
     "output_type": "execute_result"
    }
   ],
   "source": [
    "count"
   ]
  },
  {
   "cell_type": "code",
   "execution_count": 7,
   "metadata": {
    "collapsed": true
   },
   "outputs": [],
   "source": [
    "with open('/Users/alongalor/Google Drive/Coursework/Stanford Algorithms/Wk3/Data/QuickSort.txt') as f:\n",
    "    A = [int(x.strip('\\n')) for x in f.readlines()]"
   ]
  },
  {
   "cell_type": "code",
   "execution_count": 9,
   "metadata": {
    "collapsed": true
   },
   "outputs": [],
   "source": [
    "def choose_pivot(A):  \n",
    "    A[0], A[-1] = A[-1], A[0]\n",
    "    p = A[0]\n",
    "    return p, A"
   ]
  },
  {
   "cell_type": "code",
   "execution_count": 10,
   "metadata": {
    "collapsed": false
   },
   "outputs": [],
   "source": [
    "count = 0 \n",
    "sort_2 = quicksort(A)"
   ]
  },
  {
   "cell_type": "code",
   "execution_count": 11,
   "metadata": {
    "collapsed": false
   },
   "outputs": [
    {
     "data": {
      "text/plain": [
       "164123"
      ]
     },
     "execution_count": 11,
     "metadata": {},
     "output_type": "execute_result"
    }
   ],
   "source": [
    "count"
   ]
  },
  {
   "cell_type": "code",
   "execution_count": 12,
   "metadata": {
    "collapsed": true
   },
   "outputs": [],
   "source": [
    "with open('/Users/alongalor/Google Drive/Coursework/Stanford Algorithms/Wk3/Data/QuickSort.txt') as f:\n",
    "    A = [int(x.strip('\\n')) for x in f.readlines()]"
   ]
  },
  {
   "cell_type": "code",
   "execution_count": 14,
   "metadata": {
    "collapsed": true
   },
   "outputs": [],
   "source": [
    "def choose_pivot(A):    \n",
    "    indecies = [0, middle_index(A), -1]\n",
    "    vals = [A[i] for i in indecies]\n",
    "\n",
    "    med = 0\n",
    "    med_index = 0\n",
    "\n",
    "    for i,j in list(zip(indecies, vals)):\n",
    "        if j==sorted(vals)[1]:\n",
    "            med_index = i\n",
    "            med = j\n",
    "\n",
    "    p = med\n",
    "    A[0], A[med_index] = A[med_index], A[0]\n",
    "    \n",
    "    return p, A"
   ]
  },
  {
   "cell_type": "code",
   "execution_count": 15,
   "metadata": {
    "collapsed": false
   },
   "outputs": [],
   "source": [
    "def middle_index(A):\n",
    "    if len(A)%2==0:\n",
    "        return len(A)//2 -1\n",
    "    elif len(A)%2==1:\n",
    "        return len(A)//2"
   ]
  },
  {
   "cell_type": "code",
   "execution_count": 16,
   "metadata": {
    "collapsed": false
   },
   "outputs": [],
   "source": [
    "count = 0 \n",
    "sort_3 = quicksort(A)"
   ]
  },
  {
   "cell_type": "code",
   "execution_count": 17,
   "metadata": {
    "collapsed": false
   },
   "outputs": [
    {
     "data": {
      "text/plain": [
       "138382"
      ]
     },
     "execution_count": 17,
     "metadata": {},
     "output_type": "execute_result"
    }
   ],
   "source": [
    "count"
   ]
  }
 ],
 "metadata": {
  "anaconda-cloud": {},
  "hide_input": false,
  "kernelspec": {
   "display_name": "Python [conda root]",
   "language": "python",
   "name": "conda-root-py"
  },
  "language_info": {
   "codemirror_mode": {
    "name": "ipython",
    "version": 3
   },
   "file_extension": ".py",
   "mimetype": "text/x-python",
   "name": "python",
   "nbconvert_exporter": "python",
   "pygments_lexer": "ipython3",
   "version": "3.5.2"
  },
  "toc": {
   "nav_menu": {
    "height": "12px",
    "width": "252px"
   },
   "navigate_menu": true,
   "number_sections": true,
   "sideBar": true,
   "threshold": 4,
   "toc_cell": false,
   "toc_section_display": "block",
   "toc_window_display": true
  }
 },
 "nbformat": 4,
 "nbformat_minor": 2
}
