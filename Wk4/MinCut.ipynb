{
 "cells": [
  {
   "cell_type": "code",
   "execution_count": 1,
   "metadata": {
    "collapsed": true
   },
   "outputs": [],
   "source": [
    "import random\n",
    "import itertools"
   ]
  },
  {
   "cell_type": "code",
   "execution_count": 2,
   "metadata": {
    "collapsed": true
   },
   "outputs": [],
   "source": [
    "with open('/Users/alongalor/Google Drive/Coursework/Stanford Algorithms/Wk4/Data/kargerMinCut.txt') as f:\n",
    "    data = f.read()"
   ]
  },
  {
   "cell_type": "code",
   "execution_count": 3,
   "metadata": {
    "collapsed": true
   },
   "outputs": [],
   "source": [
    "def clean_data(data):\n",
    "    lst = []\n",
    "    for i,j in enumerate(data.split('\\n')[:-1]):\n",
    "        lst.append([int(i) for i in j.strip('\\t').split('\\t')])\n",
    "    return lst\n",
    "\n",
    "def gen_edges(B):\n",
    "    edges = []\n",
    "    for i,j in enumerate([i[0] for i in B]):\n",
    "        for k in B[i][1:]:\n",
    "            edges.append((j,k))\n",
    "    return edges\n",
    "\n",
    "def min_cut(data, itterations):\n",
    "    min = 1000\n",
    "    for i in range(itterations):\n",
    "\n",
    "        # Create list of edges\n",
    "        edges = gen_edges(data)\n",
    "\n",
    "        # While there are more than 2 vertices:\n",
    "        while len(set(itertools.chain.from_iterable(edges))) > 2:\n",
    "            # pick a remaining edge (u,v) uniformly at random \n",
    "            rand = random.choice(edges)\n",
    "            # merge (or “contract” ) u and v into a single vertex\n",
    "            # remove self-loops\n",
    "            data = [[rand[0] if elem==rand[1] else elem for elem in lst] for lst in data]\n",
    "            data = [[lst[0]] + list(filter(lambda a: a != lst[0], lst[1:])) for lst in data]\n",
    "            data = list(filter(lambda a: len(a) != 1 , data))\n",
    "\n",
    "            # Create list of edges\n",
    "            edges = gen_edges(data)\n",
    "\n",
    "        # return cut represented by final 2 vertices\n",
    "        if len(edges)/2 < min:\n",
    "            min = len(edges)/2\n",
    "    return int(min)"
   ]
  },
  {
   "cell_type": "code",
   "execution_count": 4,
   "metadata": {
    "collapsed": false
   },
   "outputs": [],
   "source": [
    "data = clean_data(data)"
   ]
  },
  {
   "cell_type": "code",
   "execution_count": 5,
   "metadata": {
    "collapsed": false
   },
   "outputs": [
    {
     "data": {
      "text/plain": [
       "20"
      ]
     },
     "execution_count": 5,
     "metadata": {},
     "output_type": "execute_result"
    }
   ],
   "source": [
    "min_cut(data, 100000000)"
   ]
  }
 ],
 "metadata": {
  "anaconda-cloud": {},
  "hide_input": false,
  "kernelspec": {
   "display_name": "Python [default]",
   "language": "python",
   "name": "python3"
  },
  "language_info": {
   "codemirror_mode": {
    "name": "ipython",
    "version": 3
   },
   "file_extension": ".py",
   "mimetype": "text/x-python",
   "name": "python",
   "nbconvert_exporter": "python",
   "pygments_lexer": "ipython3",
   "version": "3.5.2"
  },
  "toc": {
   "nav_menu": {
    "height": "12px",
    "width": "252px"
   },
   "navigate_menu": true,
   "number_sections": true,
   "sideBar": true,
   "threshold": 4,
   "toc_cell": false,
   "toc_section_display": "block",
   "toc_window_display": true
  }
 },
 "nbformat": 4,
 "nbformat_minor": 2
}
