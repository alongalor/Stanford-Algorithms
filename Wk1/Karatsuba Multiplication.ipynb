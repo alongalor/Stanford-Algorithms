{
 "cells": [
  {
   "cell_type": "code",
   "execution_count": 1,
   "metadata": {
    "collapsed": false
   },
   "outputs": [],
   "source": [
    "# %load karatsuba.py\n",
    "def karatsuba(x,y):\n",
    "    if get_len(x)==1:\n",
    "        return x*y\n",
    "    else:\n",
    "        return 10**get_len(x)*karatsuba(get_a(x),get_a(y)) + 10**(get_len(x)//2)*(karatsuba(\n",
    "            get_a(x),get_b(y)) + karatsuba(get_b(x),get_a(y))) + karatsuba(get_b(x),get_b(y))\n",
    "\n",
    "def get_len(n):\n",
    "    return len(str(n))\n",
    "    \n",
    "def get_a(n):\n",
    "    return n//10**(get_len(n)//2)\n",
    "\n",
    "def get_b(n):\n",
    "    return n%10**(get_len(n)//2)"
   ]
  },
  {
   "cell_type": "code",
   "execution_count": 2,
   "metadata": {
    "collapsed": false
   },
   "outputs": [],
   "source": [
    "x = 3141592653589793238462643383279502884197169399375105820974944592\n",
    "y = 2718281828459045235360287471352662497757247093699959574966967627"
   ]
  },
  {
   "cell_type": "code",
   "execution_count": 4,
   "metadata": {
    "collapsed": false
   },
   "outputs": [
    {
     "name": "stdout",
     "output_type": "stream",
     "text": [
      "CPU times: user 3 µs, sys: 1e+03 ns, total: 4 µs\n",
      "Wall time: 7.87 µs\n"
     ]
    },
    {
     "data": {
      "text/plain": [
       "8539734222673567065463550869546574495034888535764856075768455907184664328913011799881692919609479166587901535138222401574541504"
      ]
     },
     "execution_count": 4,
     "metadata": {},
     "output_type": "execute_result"
    }
   ],
   "source": [
    "%time\n",
    "karatsuba(x,y)"
   ]
  }
 ],
 "metadata": {
  "anaconda-cloud": {},
  "hide_input": false,
  "kernelspec": {
   "display_name": "Python [default]",
   "language": "python",
   "name": "python3"
  },
  "language_info": {
   "codemirror_mode": {
    "name": "ipython",
    "version": 3
   },
   "file_extension": ".py",
   "mimetype": "text/x-python",
   "name": "python",
   "nbconvert_exporter": "python",
   "pygments_lexer": "ipython3",
   "version": "3.5.2"
  },
  "toc": {
   "nav_menu": {
    "height": "12px",
    "width": "252px"
   },
   "navigate_menu": true,
   "number_sections": true,
   "sideBar": true,
   "threshold": 4,
   "toc_cell": false,
   "toc_section_display": "block",
   "toc_window_display": true
  }
 },
 "nbformat": 4,
 "nbformat_minor": 2
}
